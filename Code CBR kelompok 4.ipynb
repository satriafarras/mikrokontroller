{
 "cells": [
  {
   "cell_type": "code",
   "execution_count": 1,
   "id": "aaec0f2a-b252-4527-ada1-c60de0606440",
   "metadata": {},
   "outputs": [],
   "source": [
    "students = [\n",
    "    {'id': 1, 'name': 'Mahasiswa A'},\n",
    "    {'id': 2, 'name': 'Mahasiswa B'},\n",
    "    {'id': 3, 'name': 'Mahasiswa C'},\n",
    "    {'id': 4, 'name': 'Mahasiswa D'},\n",
    "    {'id': 5, 'name': 'Mahasiswa E'},\n",
    "]\n",
    "\n",
    "tasks = [\n",
    "    {'id': 1, 'title': 'Tugas 1'},\n",
    "    {'id': 2, 'title': 'Tugas 2'},\n",
    "    {'id': 3, 'title': 'Tugas 3'},\n",
    "    {'id': 4, 'title': 'Tugas 4'},\n",
    "]\n",
    "\n",
    "# Simulasi data rating (nilai) tugas oleh mahasiswa (misalnya, rentang 1-5)\n",
    "ratings = [\n",
    "    {'student_id': 1, 'task_id': 1, 'rating': 4},\n",
    "    {'student_id': 1, 'task_id': 2, 'rating': 3},\n",
    "    {'student_id': 2, 'task_id': 1, 'rating': 5},\n",
    "    {'student_id': 2, 'task_id': 2, 'rating': 4},\n",
    "    {'student_id': 3, 'task_id': 2, 'rating': 3},\n",
    "    {'student_id': 3, 'task_id': 3, 'rating': 5},\n",
    "    {'student_id': 4, 'task_id': 3, 'rating': 4},\n",
    "    {'student_id': 4, 'task_id': 4, 'rating': 2},\n",
    "    {'student_id': 5, 'task_id': 1, 'rating': 3},\n",
    "    {'student_id': 5, 'task_id': 3, 'rating': 4},\n",
    "]"
   ]
  },
  {
   "cell_type": "code",
   "execution_count": 11,
   "id": "41d09e3b-996f-4dac-b506-6a6224c978b5",
   "metadata": {},
   "outputs": [
    {
     "name": "stdout",
     "output_type": "stream",
     "text": [
      "Rekomendasi Tugas untuk Mahasiswa:\n",
      "- Tugas 3\n",
      "- Tugas 4\n"
     ]
    }
   ],
   "source": [
    "# Fungsi untuk melakukan rekomendasi tugas untuk mahasiswa tertentu\n",
    "def recommend_task(student_id):\n",
    "    # Contoh algoritma Collaborative Filtering sederhana: Ambil tugas yang belum dinilai oleh mahasiswa\n",
    "    rated_tasks = [rating['task_id'] for rating in ratings if rating['student_id'] == student_id]\n",
    "\n",
    "    unrated_tasks = [task for task in tasks if task['id'] not in rated_tasks]\n",
    "\n",
    "    # Kembalikan tugas-tugas yang belum dinilai\n",
    "    return unrated_tasks\n",
    "\n",
    "# Contoh penggunaan: Rekomendasi tugas untuk Mahasiswa dengan ID 1\n",
    "recommended_tasks = recommend_task(1)\n",
    "\n",
    "# Tampilkan hasil rekomendasi\n",
    "print(\"Rekomendasi Tugas untuk Mahasiswa:\")\n",
    "for task in recommended_tasks:\n",
    "    print(f\"- {task['title']}\")"
   ]
  },
  {
   "cell_type": "code",
   "execution_count": null,
   "id": "f1c26e8a-a4ed-42c0-9e67-92c7b751c194",
   "metadata": {},
   "outputs": [],
   "source": []
  }
 ],
 "metadata": {
  "kernelspec": {
   "display_name": "Python 3 (ipykernel)",
   "language": "python",
   "name": "python3"
  },
  "language_info": {
   "codemirror_mode": {
    "name": "ipython",
    "version": 3
   },
   "file_extension": ".py",
   "mimetype": "text/x-python",
   "name": "python",
   "nbconvert_exporter": "python",
   "pygments_lexer": "ipython3",
   "version": "3.9.7"
  }
 },
 "nbformat": 4,
 "nbformat_minor": 5
}
